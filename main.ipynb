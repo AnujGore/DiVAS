{
 "cells": [
  {
   "cell_type": "markdown",
   "metadata": {},
   "source": [
    "### DiVAS 1.01"
   ]
  },
  {
   "cell_type": "markdown",
   "metadata": {},
   "source": [
    "A software used to automate daily planning. Currently samples from a distribution, but ideally with v2.0+, I would like to add some supervised models."
   ]
  },
  {
   "cell_type": "code",
   "execution_count": 3,
   "metadata": {},
   "outputs": [],
   "source": [
    "import numpy as np\n",
    "from helpers import block, time_arr\n",
    "from personal import label_arr, blocking_params"
   ]
  },
  {
   "cell_type": "markdown",
   "metadata": {},
   "source": [
    "The input array is a multiple of 16 for a 16 hour day. 16x2 gives 30 minute slots. 16x3 gives 15 minute slots.\n",
    "\n",
    "`time_arr` sets the time of the item. The input array is the number of slots in the day and accordingly the second column is set to that incrementation.\n",
    "\n",
    "`block` is a function which blocks parts of the day depending on the `blocked_parameters` variable."
   ]
  },
  {
   "cell_type": "code",
   "execution_count": 4,
   "metadata": {},
   "outputs": [],
   "source": [
    "arr = np.zeros(shape = (64, 2), dtype = object)\n",
    "\n",
    "blocked_arr = label_arr(block(time_arr(arr), blocking_params))"
   ]
  },
  {
   "cell_type": "code",
   "execution_count": 5,
   "metadata": {},
   "outputs": [],
   "source": [
    "free_slots = 0\n",
    "for s in arr:\n",
    "    if 8 <= s[1] < 19:    \n",
    "        if s[0] == 0: free_slots += 1"
   ]
  },
  {
   "cell_type": "markdown",
   "metadata": {},
   "source": [
    "Now the unblocked entries need to be optimized to the work plan and priority. Only for times between 0800 and 1900."
   ]
  },
  {
   "cell_type": "markdown",
   "metadata": {},
   "source": [
    "Below the tasks have been sorted by hard-coded priority but ahead, a supervised model should determine the importance factor."
   ]
  },
  {
   "cell_type": "code",
   "execution_count": 6,
   "metadata": {},
   "outputs": [],
   "source": [
    "task1 = 8 #By importance\n",
    "task2 = 7\n",
    "task3 = 4\n",
    "\n",
    "task1_time = np.round(task1*(free_slots/(task1+task2+task3)))\n",
    "task2_time = np.round(task2*(free_slots/(task1+task2+task3))) + task1_time\n",
    "task3_time = np.round(task3*(free_slots/(task1+task2+task3))) + task2_time"
   ]
  },
  {
   "cell_type": "code",
   "execution_count": 7,
   "metadata": {},
   "outputs": [],
   "source": [
    "i_count = 0\n",
    "for i in arr:\n",
    "    if i[0] == 0:\n",
    "        if 0<=i_count<=task1_time: i[0] = \"Task 1\"\n",
    "        elif task1_time < i_count <= task2_time: i[0] = \"Task 2\"\n",
    "        elif task2_time < i_count <= task3_time: i[0] = \"Task 3\"\n",
    "        i_count += 1\n"
   ]
  }
 ],
 "metadata": {
  "kernelspec": {
   "display_name": "this_env",
   "language": "python",
   "name": "python3"
  },
  "language_info": {
   "codemirror_mode": {
    "name": "ipython",
    "version": 3
   },
   "file_extension": ".py",
   "mimetype": "text/x-python",
   "name": "python",
   "nbconvert_exporter": "python",
   "pygments_lexer": "ipython3",
   "version": "3.10.8"
  }
 },
 "nbformat": 4,
 "nbformat_minor": 2
}
